{
 "cells": [
  {
   "cell_type": "code",
   "execution_count": 2,
   "id": "9bdee244-0fe6-4008-b385-b697a5d54772",
   "metadata": {},
   "outputs": [
    {
     "name": "stdout",
     "output_type": "stream",
     "text": [
      "Student ID: {112, 114, 115, 116, 118}\n",
      "Vowel Letters: {'A1', 'A2'}\n",
      "Set of mixed data types: {'Bye', 101, 'Hello', -2}\n"
     ]
    }
   ],
   "source": [
    "\n",
    "student_id = {112, 114, 116, 118, 115}\n",
    "print('Student ID:', student_id)\n",
    "\n",
    "vowel_letters = {'A1', 'A2'}\n",
    "print('Vowel Letters:', vowel_letters)\n",
    "\n",
    "mixed_set = {'Hello', 101, -2, 'Bye'}\n",
    "print('Set of mixed data types:', mixed_set)"
   ]
  },
  {
   "cell_type": "code",
   "execution_count": 3,
   "id": "78bccfc4-a62d-49aa-b39b-9bce569b85d0",
   "metadata": {},
   "outputs": [
    {
     "name": "stdout",
     "output_type": "stream",
     "text": [
      "Data type of empty_set: <class 'set'>\n",
      "Data type of empty_dictionary: <class 'dict'>\n"
     ]
    }
   ],
   "source": [
    "empty_set = set()\n",
    "\n",
    "empty_dictionary = { }\n",
    "\n",
    "print('Data type of empty_set:', type(empty_set))\n",
    "\n",
    "print('Data type of empty_dictionary:', type(empty_dictionary))"
   ]
  },
  {
   "cell_type": "code",
   "execution_count": 4,
   "id": "36b2c91f-a4ae-4c38-a3de-181db37bea19",
   "metadata": {},
   "outputs": [
    {
     "name": "stdout",
     "output_type": "stream",
     "text": [
      "Initial Set: {34, 12, 21, 54}\n",
      "Updated Set: {32, 34, 12, 21, 54}\n"
     ]
    }
   ],
   "source": [
    "numbers = {21, 34, 54, 12}\n",
    "\n",
    "print('Initial Set:',numbers)\n",
    "\n",
    "numbers.add(32)\n",
    "\n",
    "print('Updated Set:', numbers) "
   ]
  },
  {
   "cell_type": "code",
   "execution_count": 5,
   "id": "2a97a48a-314f-4432-9119-e4147909cee0",
   "metadata": {},
   "outputs": [
    {
     "name": "stdout",
     "output_type": "stream",
     "text": [
      "{'Lacoste', 'google', 'Ralph Lauren', 'apple'}\n"
     ]
    }
   ],
   "source": [
    "companies = {'Lacoste', 'Ralph Lauren'}\n",
    "tech_companies = ['apple', 'google', 'apple']\n",
    "\n",
    "companies.update(tech_companies)\n",
    "\n",
    "print(companies)"
   ]
  },
  {
   "cell_type": "code",
   "execution_count": 6,
   "id": "2a38bcc6-0a02-4974-b53b-2f29b50ad2bc",
   "metadata": {},
   "outputs": [
    {
     "name": "stdout",
     "output_type": "stream",
     "text": [
      "Initial Set: {'Swift', 'Python', 'Java'}\n",
      "Set after remove(): {'Swift', 'Python'}\n"
     ]
    }
   ],
   "source": [
    "languages = {'Swift', 'Java', 'Python'}\n",
    "\n",
    "print('Initial Set:',languages)\n",
    "\n",
    "removedValue = languages.discard('Java')\n",
    "\n",
    "print('Set after remove():', languages)"
   ]
  },
  {
   "cell_type": "code",
   "execution_count": null,
   "id": "20f7ec94-1859-46ec-be23-ea1137315138",
   "metadata": {},
   "outputs": [],
   "source": []
  }
 ],
 "metadata": {
  "kernelspec": {
   "display_name": "Python 3 (ipykernel)",
   "language": "python",
   "name": "python3"
  },
  "language_info": {
   "codemirror_mode": {
    "name": "ipython",
    "version": 3
   },
   "file_extension": ".py",
   "mimetype": "text/x-python",
   "name": "python",
   "nbconvert_exporter": "python",
   "pygments_lexer": "ipython3",
   "version": "3.12.3"
  }
 },
 "nbformat": 4,
 "nbformat_minor": 5
}
