{
 "cells": [
  {
   "cell_type": "code",
   "execution_count": 3,
   "id": "7288251d-e841-40b4-bd61-d84839fd2613",
   "metadata": {},
   "outputs": [
    {
     "name": "stdout",
     "output_type": "stream",
     "text": [
      "tup1[2]:  1945\n",
      "tup2[3:5]:  (4, 5)\n"
     ]
    }
   ],
   "source": [
    "tup1 = ('PPKN', 'IPA', 1945, 2012)\n",
    "tup2 = (1, 2, 3, 4, 5, 6, 7, 8, 9, 0 )\n",
    "\n",
    "print (\"tup1[2]: \", tup1[2])\n",
    "print (\"tup2[3:5]: \", tup2[3:5])"
   ]
  },
  {
   "cell_type": "code",
   "execution_count": 6,
   "id": "58cec37e-8c65-40d6-afde-bfe17c53709e",
   "metadata": {},
   "outputs": [
    {
     "name": "stdout",
     "output_type": "stream",
     "text": [
      "(69, 0.5, 'Sahrul', 'Azis')\n"
     ]
    }
   ],
   "source": [
    "tup3 = (69, 0.5)\n",
    "tup4 = ('Sahrul', 'Azis')\n",
    "\n",
    "tup5 = tup3 + tup4\n",
    "print (tup5)"
   ]
  },
  {
   "cell_type": "code",
   "execution_count": 8,
   "id": "df0022f0-2707-43bd-bbaf-d1341277f224",
   "metadata": {},
   "outputs": [
    {
     "name": "stdout",
     "output_type": "stream",
     "text": [
      "('PJOK', 'Kalkulus', 1636, 2010)\n",
      "Setelah menghapus tuple : ('Paus', 'Dinosaurus', 2022)\n"
     ]
    }
   ],
   "source": [
    "tup6 = ('PJOK', 'Kalkulus', 1636, 2010)\n",
    "print(tup6)\n",
    "\n",
    "del tup6\n",
    "\n",
    "tup6 = ('Paus', 'Dinosaurus', 2022)\n",
    "print(\"Setelah menghapus tuple :\", tup6)"
   ]
  },
  {
   "cell_type": "code",
   "execution_count": 25,
   "id": "9c39ecc2-b29c-4e83-aef1-d1a587a6d3ec",
   "metadata": {},
   "outputs": [
    {
     "name": "stdout",
     "output_type": "stream",
     "text": [
      "(1, 2, 3, 4, 5)\n"
     ]
    }
   ],
   "source": [
    "tup7 = (1, 2, 3, 4, 5)\n",
    "print(tup7)"
   ]
  },
  {
   "cell_type": "code",
   "execution_count": 24,
   "id": "f99f9e7b-172e-478e-a427-ce1e711afce6",
   "metadata": {},
   "outputs": [
    {
     "name": "stdout",
     "output_type": "stream",
     "text": [
      "(1, 'hello', 3.14, True)\n"
     ]
    }
   ],
   "source": [
    "tup8 = (1, \"hello\", 3.14, True)\n",
    "print(tup8)"
   ]
  },
  {
   "cell_type": "code",
   "execution_count": 23,
   "id": "d1b61c55-c3ee-4a1e-b7d0-942a860a95fe",
   "metadata": {},
   "outputs": [
    {
     "name": "stdout",
     "output_type": "stream",
     "text": [
      "(1, (2, 3), (4, 5, 6))\n"
     ]
    }
   ],
   "source": [
    "tup9 = (1, (2, 3), (4, 5, 6))\n",
    "print(tup9)"
   ]
  },
  {
   "cell_type": "code",
   "execution_count": 21,
   "id": "7d5b2f0c-d84e-4a4b-9f0b-c3841ab05e69",
   "metadata": {},
   "outputs": [
    {
     "name": "stdout",
     "output_type": "stream",
     "text": [
      "20 10\n"
     ]
    }
   ],
   "source": [
    "a = 10\n",
    "b = 20\n",
    "a, b = b, a\n",
    "print(a, b)\n"
   ]
  },
  {
   "cell_type": "code",
   "execution_count": 1,
   "id": "e6d890f8-0bc4-4b58-8a10-c182cd936407",
   "metadata": {},
   "outputs": [
    {
     "name": "stdout",
     "output_type": "stream",
     "text": [
      "(10, 20)\n"
     ]
    }
   ],
   "source": [
    "def get_coordinates():\n",
    "    return (10, 20)\n",
    "\n",
    "tup12 = get_coordinates()\n",
    "print(tup12) "
   ]
  },
  {
   "cell_type": "code",
   "execution_count": 26,
   "id": "d5135646-3dec-4f5a-b892-5e825a0928f8",
   "metadata": {},
   "outputs": [
    {
     "name": "stdout",
     "output_type": "stream",
     "text": [
      "(1, 2, 3, 4, 5, 6)\n",
      "(1, 2, 3, 1, 2, 3, 1, 2, 3, 1, 2, 3)\n"
     ]
    }
   ],
   "source": [
    "tup13 = (1, 2, 3)\n",
    "tup14 = (4, 5, 6)\n",
    "gabung = tup13 + tup14\n",
    "print(gabung)\n",
    "\n",
    "ulang = tup13 * 4\n",
    "print(ulang)"
   ]
  },
  {
   "cell_type": "code",
   "execution_count": 28,
   "id": "c38921e2-124f-4222-9542-14f856d47bf0",
   "metadata": {},
   "outputs": [
    {
     "name": "stdout",
     "output_type": "stream",
     "text": [
      "True\n",
      "False\n"
     ]
    }
   ],
   "source": [
    "print(3 in my_tuple)\n",
    "print(10 in my_tuple)"
   ]
  },
  {
   "cell_type": "code",
   "execution_count": 29,
   "id": "c96445cf-e9f0-4526-9977-5c21fa7d9f00",
   "metadata": {},
   "outputs": [
    {
     "name": "stdout",
     "output_type": "stream",
     "text": [
      "98\n",
      "34\n",
      "404\n"
     ]
    }
   ],
   "source": [
    "nilai = (57, 34, 78, 55, 98, 82)\n",
    "print(max(nilai))\n",
    "print(min(nilai))\n",
    "print(sum(nilai))"
   ]
  },
  {
   "cell_type": "code",
   "execution_count": 30,
   "id": "63b489e4-29bc-4828-b093-a5338f3db2d4",
   "metadata": {},
   "outputs": [
    {
     "name": "stdout",
     "output_type": "stream",
     "text": [
      "1945\n",
      "1945\n"
     ]
    }
   ],
   "source": [
    "tup15 = (1945)\n",
    "print(tup15)\n",
    "\n",
    "love = tup15\n",
    "print(love)"
   ]
  },
  {
   "cell_type": "code",
   "execution_count": null,
   "id": "22cd695b-a13d-45c9-a38e-9d71c78aba86",
   "metadata": {},
   "outputs": [],
   "source": []
  }
 ],
 "metadata": {
  "kernelspec": {
   "display_name": "Python 3 (ipykernel)",
   "language": "python",
   "name": "python3"
  },
  "language_info": {
   "codemirror_mode": {
    "name": "ipython",
    "version": 3
   },
   "file_extension": ".py",
   "mimetype": "text/x-python",
   "name": "python",
   "nbconvert_exporter": "python",
   "pygments_lexer": "ipython3",
   "version": "3.12.3"
  }
 },
 "nbformat": 4,
 "nbformat_minor": 5
}
