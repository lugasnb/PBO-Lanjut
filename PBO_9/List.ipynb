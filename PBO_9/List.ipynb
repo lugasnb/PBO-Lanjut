{
 "cells": [
  {
   "cell_type": "code",
   "execution_count": 1,
   "id": "df848b35-bf66-4de8-93fd-7fc2fc729f5b",
   "metadata": {},
   "outputs": [
    {
     "name": "stdout",
     "output_type": "stream",
     "text": [
      "list2[7]:  8\n",
      "list1[0:2]:  ['Farhan', 'Abdan']\n"
     ]
    }
   ],
   "source": [
    "list1 = ['Farhan', 'Abdan', 888, 777]\n",
    "list2 = [1, 2, 3, 4, 5, 6, 7, 8, 9, 0]\n",
    "\n",
    "print (\"list2[7]: \", list2[7])\n",
    "print (\"list1[0:2]: \", list1[0:2])"
   ]
  },
  {
   "cell_type": "code",
   "execution_count": 2,
   "id": "688673cd-4efa-4acf-b142-00226282bea7",
   "metadata": {},
   "outputs": [
    {
     "name": "stdout",
     "output_type": "stream",
     "text": [
      "Nilai ada pada index 2 :  1945\n",
      "Nilai baru ada pada index 2 :  458\n"
     ]
    }
   ],
   "source": [
    "list3 = ['fisika', 'kimia', 1945, 2017]\n",
    "print (\"Nilai ada pada index 2 : \", list3[2])\n",
    "\n",
    "list3[2] = 458\n",
    "print (\"Nilai baru ada pada index 2 : \", list3[2])"
   ]
  },
  {
   "cell_type": "code",
   "execution_count": 3,
   "id": "1525d4ed-c638-4158-8567-f641c60c4cf7",
   "metadata": {},
   "outputs": [
    {
     "name": "stdout",
     "output_type": "stream",
     "text": [
      "['Kosong', 'Ada', 1965, 2012]\n",
      "Setelah dihapus nilai pada index 2 :  ['Kosong', 'Ada', 2012]\n"
     ]
    }
   ],
   "source": [
    "list4 = ['Kosong', 'Ada', 1965, 2012]\n",
    "\n",
    "print (list4)\n",
    "del list4[2]\n",
    "print (\"Setelah dihapus nilai pada index 2 : \", list4)"
   ]
  },
  {
   "cell_type": "code",
   "execution_count": 4,
   "id": "2d7d1d4e-b9eb-407b-820a-3bc98d121457",
   "metadata": {},
   "outputs": [
    {
     "name": "stdout",
     "output_type": "stream",
     "text": [
      "[1, 2, 3, 4, 5]\n"
     ]
    }
   ],
   "source": [
    "list5 = [1, 2, 3, 4, 5]\n",
    "print(list5)"
   ]
  },
  {
   "cell_type": "code",
   "execution_count": 5,
   "id": "3b8b105a-d0b0-4061-b6d8-7144eccade90",
   "metadata": {},
   "outputs": [
    {
     "name": "stdout",
     "output_type": "stream",
     "text": [
      "[1, 'hello', 3.14, True]\n"
     ]
    }
   ],
   "source": [
    "list6 = [1, \"hello\", 3.14, True]\n",
    "print(list6)"
   ]
  },
  {
   "cell_type": "code",
   "execution_count": 12,
   "id": "1283d360-2fbc-4b43-923c-ba44c3fd6b05",
   "metadata": {},
   "outputs": [
    {
     "name": "stdout",
     "output_type": "stream",
     "text": [
      "[1, [2, 3], [4, 5, 6]]\n"
     ]
    }
   ],
   "source": [
    "list7 = [1, [2, 3], [4, 5, 6]]\n",
    "print(list7)"
   ]
  },
  {
   "cell_type": "code",
   "execution_count": 9,
   "id": "08d4f60e-2a1f-42bd-a0b9-84484ecdacee",
   "metadata": {},
   "outputs": [
    {
     "name": "stdout",
     "output_type": "stream",
     "text": [
      "[1, 2, 3, 4, 5, 6]\n",
      "[1, 15, 2, 3, 4, 5, 6]\n"
     ]
    }
   ],
   "source": [
    "list5.append(6)\n",
    "print(list5)  # Output: [10, 2, 3, 4, 5, 6]\n",
    "\n",
    "list5.insert(1, 15)\n",
    "print(list5)  # Output: [10, 15, 2, 3, 4, 5, 6]"
   ]
  },
  {
   "cell_type": "code",
   "execution_count": 15,
   "id": "61443e83-7d5b-4e21-a33e-6f7f091d5c70",
   "metadata": {},
   "outputs": [
    {
     "name": "stdout",
     "output_type": "stream",
     "text": [
      "[1, 2, 3, 4, 5, 6]\n",
      "[4, 5, 6, 4, 5, 6, 4, 5, 6]\n"
     ]
    }
   ],
   "source": [
    "list8 = [1, 2, 3]\n",
    "list9 = [4, 5, 6]\n",
    "gabung = list8 + list9\n",
    "print(gabung)\n",
    "\n",
    "ulang = list9 * 3\n",
    "print(ulang)"
   ]
  },
  {
   "cell_type": "code",
   "execution_count": 16,
   "id": "d9d9f0e9-87d9-42b6-acd8-ef6bd3be4ed7",
   "metadata": {},
   "outputs": [
    {
     "name": "stdout",
     "output_type": "stream",
     "text": [
      "4\n"
     ]
    }
   ],
   "source": [
    "print(len(list5))"
   ]
  },
  {
   "cell_type": "code",
   "execution_count": 18,
   "id": "79acefb9-9427-49c0-badf-ca9c89542285",
   "metadata": {},
   "outputs": [
    {
     "name": "stdout",
     "output_type": "stream",
     "text": [
      "True\n",
      "False\n"
     ]
    }
   ],
   "source": [
    "print(3 in list5)\n",
    "print(10 in list5)"
   ]
  },
  {
   "cell_type": "code",
   "execution_count": 19,
   "id": "12182263-fe4e-4c92-be63-6ac909798456",
   "metadata": {},
   "outputs": [
    {
     "name": "stdout",
     "output_type": "stream",
     "text": [
      "7\n",
      "1\n",
      "19\n"
     ]
    }
   ],
   "source": [
    "nomer = [1, 2, 4, 5, 7]\n",
    "print(max(nomer))\n",
    "print(min(nomer))\n",
    "print(sum(nomer))"
   ]
  },
  {
   "cell_type": "code",
   "execution_count": 21,
   "id": "c4a2db90-71af-4ee0-acfa-37730b60525a",
   "metadata": {},
   "outputs": [
    {
     "name": "stdout",
     "output_type": "stream",
     "text": [
      "[1, 4, 9, 16, 25]\n"
     ]
    }
   ],
   "source": [
    "squares = [x**2 for x in range(1, 6)]\n",
    "print(squares)"
   ]
  },
  {
   "cell_type": "code",
   "execution_count": 20,
   "id": "032b4189-3b61-4069-ab11-b4bceb960e54",
   "metadata": {},
   "outputs": [
    {
     "name": "stdout",
     "output_type": "stream",
     "text": [
      "[11, 29, 32, 45, 58]\n",
      "[11, 29, 32, 45, 58]\n"
     ]
    }
   ],
   "source": [
    "unsorted_list = [32, 11, 45, 58, 29]\n",
    "sorted_list = sorted(unsorted_list)\n",
    "print(sorted_list)\n",
    "\n",
    "unsorted_list.sort()\n",
    "print(unsorted_list)"
   ]
  },
  {
   "cell_type": "code",
   "execution_count": null,
   "id": "79033a53-9e7e-4035-9090-bd509e01f10a",
   "metadata": {},
   "outputs": [],
   "source": []
  }
 ],
 "metadata": {
  "kernelspec": {
   "display_name": "Python 3 (ipykernel)",
   "language": "python",
   "name": "python3"
  },
  "language_info": {
   "codemirror_mode": {
    "name": "ipython",
    "version": 3
   },
   "file_extension": ".py",
   "mimetype": "text/x-python",
   "name": "python",
   "nbconvert_exporter": "python",
   "pygments_lexer": "ipython3",
   "version": "3.12.3"
  }
 },
 "nbformat": 4,
 "nbformat_minor": 5
}
