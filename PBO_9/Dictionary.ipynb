{
 "cells": [
  {
   "cell_type": "code",
   "execution_count": 2,
   "id": "c4600f0d-c64e-4922-a5d3-f43eff1e254f",
   "metadata": {},
   "outputs": [
    {
     "name": "stdout",
     "output_type": "stream",
     "text": [
      "dict['Age']:  19\n",
      "dict['School']:  Universitas Muhammadiyah Cirebon\n"
     ]
    }
   ],
   "source": [
    "dict = {'Name': 'Lugas', 'Age': 17, 'Class': 'TI22C'}\n",
    "dict['Age'] = 19; \n",
    "dict['School'] = \"Universitas Muhammadiyah Cirebon\"\n",
    "\n",
    "print (\"dict['Age']: \", dict['Age'])\n",
    "print (\"dict['School']: \", dict['School'])"
   ]
  },
  {
   "cell_type": "code",
   "execution_count": 3,
   "id": "1667b2a9-89ee-4555-a5d4-3f7fac095500",
   "metadata": {},
   "outputs": [
    {
     "name": "stdout",
     "output_type": "stream",
     "text": [
      "dict['Age']:  dict['Age']\n",
      "dict['School']:  dict['School']\n"
     ]
    }
   ],
   "source": [
    "dict = {'Name': 'Lugas', 'Age': 19, 'Class': 'TI22C'}\n",
    "\n",
    "del dict['Name'] \n",
    "dict.clear() \n",
    "del dict \n",
    "\n",
    "print (\"dict['Age']: \", dict['Age'])\n",
    "print (\"dict['School']: \", dict['School'])"
   ]
  },
  {
   "cell_type": "code",
   "execution_count": 5,
   "id": "249b995b-f7b1-480b-a0c6-540830594cf8",
   "metadata": {},
   "outputs": [
    {
     "name": "stdout",
     "output_type": "stream",
     "text": [
      "{'name': 'Lugas', 'age': 19, 'city': 'Kuningan'}\n"
     ]
    }
   ],
   "source": [
    "dict = {\"name\": \"Lugas\", \"age\": 19, \"city\": \"Kuningan\"}\n",
    "print(dict)"
   ]
  },
  {
   "cell_type": "code",
   "execution_count": 6,
   "id": "b83d2901-97cf-41f5-8419-b0eb157232fe",
   "metadata": {},
   "outputs": [
    {
     "name": "stdout",
     "output_type": "stream",
     "text": [
      "Lugas\n",
      "19\n"
     ]
    }
   ],
   "source": [
    "print(dict[\"name\"])\n",
    "print(dict.get(\"age\"))"
   ]
  },
  {
   "cell_type": "code",
   "execution_count": 10,
   "id": "bffd3765-3b38-40e2-8d3a-98dd0ff7cf3b",
   "metadata": {},
   "outputs": [
    {
     "name": "stdout",
     "output_type": "stream",
     "text": [
      "{'name': 'Lugas', 'age': 20, 'city': 'Kuningan', 'email': 'lugasnusabkti@gmail.com'}\n",
      "{'name': 'Lugas', 'age': 20, 'city': 'Kuningan', 'email': 'lugasnusabkti@gmail.com'}\n"
     ]
    }
   ],
   "source": [
    "dict[\"email\"] = \"lugasnusabkti@gmail.com\"\n",
    "print(dict)\n",
    "\n",
    "dict[\"age\"] = 20\n",
    "print(dict)"
   ]
  },
  {
   "cell_type": "code",
   "execution_count": 15,
   "id": "031d4e84-042d-4240-8635-c08da50aa1e1",
   "metadata": {},
   "outputs": [
    {
     "name": "stdout",
     "output_type": "stream",
     "text": [
      "name Lugas\n",
      "age 20\n",
      "name Lugas\n",
      "age 20\n"
     ]
    }
   ],
   "source": [
    "for key in dict:\n",
    "    print(key, dict[key])\n",
    "\n",
    "\n",
    "for key, value in dict.items():\n",
    "    print(key, value)\n"
   ]
  },
  {
   "cell_type": "code",
   "execution_count": 16,
   "id": "b3f34861-cd3e-4667-bd85-556f71f32c5c",
   "metadata": {},
   "outputs": [
    {
     "name": "stdout",
     "output_type": "stream",
     "text": [
      "True\n",
      "False\n"
     ]
    }
   ],
   "source": [
    "print(\"name\" in dict)\n",
    "print(\"city\" in dict)"
   ]
  },
  {
   "cell_type": "code",
   "execution_count": 17,
   "id": "d8396ea7-a209-4d3d-97b3-8e5dc4560c47",
   "metadata": {},
   "outputs": [
    {
     "name": "stdout",
     "output_type": "stream",
     "text": [
      "dict_keys(['name', 'age'])\n",
      "dict_values(['Lugas', 20])\n",
      "dict_items([('name', 'Lugas'), ('age', 20)])\n"
     ]
    }
   ],
   "source": [
    "keys = dict.keys()\n",
    "print(keys)\n",
    "\n",
    "values = dict.values()\n",
    "print(values)\n",
    "\n",
    "items = dict.items()\n",
    "print(items)"
   ]
  },
  {
   "cell_type": "code",
   "execution_count": 20,
   "id": "2f45a655-d99d-4778-9ffc-1fe0b77f01e7",
   "metadata": {},
   "outputs": [
    {
     "name": "stdout",
     "output_type": "stream",
     "text": [
      "{'person1': {'name': 'Lugas', 'age': 25}, 'person2': {'name': 'Bob', 'age': 30}}\n"
     ]
    }
   ],
   "source": [
    "nested_dict = {\n",
    "    \"person1\": {\"name\": \"Lugas\", \"age\": 25},\n",
    "    \"person2\": {\"name\": \"Bob\", \"age\": 30}\n",
    "}\n",
    "print(nested_dict)"
   ]
  },
  {
   "cell_type": "code",
   "execution_count": 19,
   "id": "0d37626b-8eb8-4fde-9920-186cdab90a2a",
   "metadata": {},
   "outputs": [
    {
     "name": "stdout",
     "output_type": "stream",
     "text": [
      "{'name': 'Lugas', 'age': 25, 'city': 'New York', 'email': 'Lugas@example.com'}\n"
     ]
    }
   ],
   "source": [
    "dict1 = {\"name\": \"Lugas\", \"age\": 25}\n",
    "dict2 = {\"city\": \"New York\", \"email\": \"Lugas@example.com\"}\n",
    "dict1.update(dict2)\n",
    "print(dict1)"
   ]
  },
  {
   "cell_type": "code",
   "execution_count": 18,
   "id": "603eec1d-6868-4f0d-a450-543f261c3568",
   "metadata": {},
   "outputs": [
    {
     "name": "stdout",
     "output_type": "stream",
     "text": [
      "{1: 1, 2: 4, 3: 9, 4: 16, 5: 25}\n"
     ]
    }
   ],
   "source": [
    "squares = {x: x**2 for x in range(1, 6)}\n",
    "print(squares)"
   ]
  },
  {
   "cell_type": "code",
   "execution_count": null,
   "id": "56cc52a1-0890-402a-917e-8bcb45fe7cbc",
   "metadata": {},
   "outputs": [],
   "source": []
  }
 ],
 "metadata": {
  "kernelspec": {
   "display_name": "Python 3 (ipykernel)",
   "language": "python",
   "name": "python3"
  },
  "language_info": {
   "codemirror_mode": {
    "name": "ipython",
    "version": 3
   },
   "file_extension": ".py",
   "mimetype": "text/x-python",
   "name": "python",
   "nbconvert_exporter": "python",
   "pygments_lexer": "ipython3",
   "version": "3.12.3"
  }
 },
 "nbformat": 4,
 "nbformat_minor": 5
}
